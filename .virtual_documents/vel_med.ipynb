import pandas as pd
import numpy as np

import matplotlib.pyplot as plt

from scipy.optimize import curve_fit
from scipy.optimize import fsolve

def func(x, a, b, c):
    return a + b*x + (c*x**2)/2
def getTime(distance):
    f = lambda x: 2.19267852 - distance + 1.95741252e-01*x + (-4.28436162e-04*x**2)/2
    print(fsolve(f, [-20,20]))
getTime(5)    


data = pd.read_csv("data1.csv")
filter = data[data["Spin"] == "h"]
filter["Time(s)"].values
popt, pcov = curve_fit(func, filter["Time(s)"].values, filter["D(mm)"].values)

plt.plot(filter["Time(s)"].values, func(filter["Time(s)"].values, *popt), 'r-')
plt.scatter(filter["Time(s)"].values, filter["D(mm)"].values)
plt.title("Tensão = 8.5V")
popt


data = pd.read_csv("data.csv")
filter = data[data["Spin"] == "h"]
filter["Time(s)"].values
popt, pcov = curve_fit(func, filter["Time(s)"].values, filter["D(mm)"].values)

plt.plot(filter["Time(s)"].values, func(filter["Time(s)"].values, *popt), 'r-')
plt.scatter(filter["Time(s)"].values, filter["D(mm)"].values)
plt.title("Tensão = 9.0V")





popt






